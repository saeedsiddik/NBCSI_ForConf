{
 "cells": [
  {
   "cell_type": "code",
   "execution_count": 1,
   "id": "cc9cf37d-64b6-4c48-9700-348f9646f2dc",
   "metadata": {
    "tags": []
   },
   "outputs": [],
   "source": [
    "import re\n",
    "import glob\n",
    "import os\n",
    "\n",
    "import pandas as pd \n",
    "\n",
    "import pylint.lint\n",
    "import nbformat\n",
    "\n",
    "import sqlite3"
   ]
  },
  {
   "cell_type": "code",
   "execution_count": 42,
   "id": "e3fcdd2f-7eba-4028-ac1f-7a6a549ac924",
   "metadata": {},
   "outputs": [
    {
     "name": "stdout",
     "output_type": "stream",
     "text": [
      "Defaulting to user installation because normal site-packages is not writeable\n",
      "Requirement already satisfied: nbformat in /opt/tljh/user/lib/python3.9/site-packages (5.1.3)\n",
      "Requirement already satisfied: jsonschema!=2.5.0,>=2.4 in /opt/tljh/user/lib/python3.9/site-packages (from nbformat) (4.2.0)\n",
      "Requirement already satisfied: ipython-genutils in /opt/tljh/user/lib/python3.9/site-packages (from nbformat) (0.2.0)\n",
      "Requirement already satisfied: jupyter-core in /opt/tljh/user/lib/python3.9/site-packages (from nbformat) (4.9.1)\n",
      "Requirement already satisfied: traitlets>=4.1 in /opt/tljh/user/lib/python3.9/site-packages (from nbformat) (5.1.1)\n",
      "Requirement already satisfied: pyrsistent!=0.17.0,!=0.17.1,!=0.17.2,>=0.14.0 in /opt/tljh/user/lib/python3.9/site-packages (from jsonschema!=2.5.0,>=2.4->nbformat) (0.18.0)\n",
      "Requirement already satisfied: attrs>=17.4.0 in /opt/tljh/user/lib/python3.9/site-packages (from jsonschema!=2.5.0,>=2.4->nbformat) (21.2.0)\n"
     ]
    }
   ],
   "source": [
    "! pip install nbformat "
   ]
  },
  {
   "cell_type": "markdown",
   "id": "36bca1c6-f790-4013-94db-6456a96856aa",
   "metadata": {},
   "source": [
    "# Data Directory Setup"
   ]
  },
  {
   "cell_type": "markdown",
   "id": "334ed2e2-004b-4691-8682-a6681eec4e8a",
   "metadata": {},
   "source": [
    "In this study, data are split into 10 parts to handle them easily.</br> Use the directory pathonly if the data are gathered in a single directory."
   ]
  },
  {
   "cell_type": "code",
   "execution_count": 3,
   "id": "4a11adc7-4d5d-428e-8a37-e616170816a5",
   "metadata": {},
   "outputs": [],
   "source": [
    "# pylint_txt_path = ['data_directory']\n",
    "pylint_txt_path = ['nb_data/part_0/KT_dataset/','nb_data/part_1/KT_dataset/','nb_data/part_2/KT_dataset/',\n",
    "                   'nb_data/part_3/KT_dataset/','nb_data/part_4/KT_dataset/','nb_data/part_5/KT_dataset/',\n",
    "                   'nb_data/part_6/KT_dataset/','nb_data/part_7/KT_dataset/','nb_data/part_8/KT_dataset/',\n",
    "                   'nb_data/part_9/KT_dataset/'] \n",
    "\n",
    "output_path=\"result/all_pylint_nb_text/\""
   ]
  },
  {
   "cell_type": "code",
   "execution_count": 4,
   "id": "86e2e71f-a9ec-4cf4-978f-837f74e66373",
   "metadata": {},
   "outputs": [],
   "source": [
    "def get_list_of_filename(path, extension):\n",
    "    notebook_filenames_list = glob.glob(os.path.join(path, extension))\n",
    "    \n",
    "    print(path, str(len(notebook_filenames_list)))\n",
    "    return notebook_filenames_list"
   ]
  },
  {
   "cell_type": "markdown",
   "id": "988f9413-2a0a-452b-a996-a56056768c34",
   "metadata": {},
   "source": [
    "# Database SQlite Connection"
   ]
  },
  {
   "cell_type": "markdown",
   "id": "8fe26322-d799-477d-a427-f79cd3173206",
   "metadata": {
    "tags": []
   },
   "source": [
    "## Database Function"
   ]
  },
  {
   "cell_type": "code",
   "execution_count": 5,
   "id": "2da5529f-ca40-4272-ae85-af3d855243b2",
   "metadata": {},
   "outputs": [],
   "source": [
    "def create_connection(db_file):\n",
    "    \"\"\" create a database connection to a SQLite database \"\"\"\n",
    "    conn = None\n",
    "    try:\n",
    "        conn = sqlite3.connect(db_file)\n",
    "        print( 'Connection established ', db_file)\n",
    "        return conn\n",
    "    \n",
    "    except Error as e:\n",
    "        print(e)"
   ]
  },
  {
   "cell_type": "code",
   "execution_count": 6,
   "id": "673cfeda-c02a-4994-b20f-da32946e1fdd",
   "metadata": {},
   "outputs": [],
   "source": [
    "def close_connection(con):\n",
    "    try:\n",
    "        con.close()\n",
    "        print ('Connection was closed now ', con)\n",
    "    except Exception as e:\n",
    "        print ('Connection invalid ', e)"
   ]
  },
  {
   "cell_type": "code",
   "execution_count": 7,
   "id": "5e9b4176-d137-47d5-8aaf-9776ac27f991",
   "metadata": {},
   "outputs": [],
   "source": [
    "def db_table_create(connection_obj):\n",
    "    # Connecting to sqlite\n",
    "    # connection object\n",
    "\n",
    "    # cursor object\n",
    "    cursor_obj = connection_obj.cursor()\n",
    "\n",
    "    # Drop the table if already exists.\n",
    "    cursor_obj.execute(\"DROP TABLE IF EXISTS NBISSUE\")\n",
    "    cursor_obj.execute(\"DROP TABLE IF EXISTS NBRATING\")\n",
    "    cursor_obj.execute(\"DROP TABLE IF EXISTS NBFILES\")\n",
    "\n",
    "    # Creating table\n",
    "    table_nbissue = \"\"\" CREATE TABLE NBISSUE (\n",
    "                Filename VARCHAR(5000) NOT NULL,\n",
    "                CellNo INT,\n",
    "                Line INT,\n",
    "                Issue VARCHAR(10)\n",
    "            ); \"\"\"\n",
    "\n",
    "    table_nbratings = \"\"\" CREATE TABLE NBRATING (\n",
    "            Filename VARCHAR(5000) NOT NULL,\n",
    "            Rating REAL\n",
    "        ); \"\"\"\n",
    "\n",
    "    table_nbfiles = \"\"\" CREATE TABLE NBFILES (\n",
    "        Filename VARCHAR(5000) NOT NULL,\n",
    "        Type VARCHAR(10)\n",
    "    ); \"\"\"\n",
    "    \n",
    "    cursor_obj.execute(table_nbissue)\n",
    "    cursor_obj.execute(table_nbratings)\n",
    "    cursor_obj.execute(table_nbfiles)\n",
    "    \n",
    "\n",
    "    print(\"Table is Ready\")\n",
    "    connection_obj.commit()\n",
    "    \n",
    "    return cursor_obj"
   ]
  },
  {
   "cell_type": "code",
   "execution_count": 8,
   "id": "325f5749-5936-49ed-a19a-005f394b9adc",
   "metadata": {},
   "outputs": [],
   "source": [
    "def data_insert_nbrating(connection, Filename, rating):\n",
    "    cursor = connection.cursor()\n",
    "\n",
    "    # Queries to INSERT records.    \n",
    "    cursor.execute(\"insert into NBRATING (Filename, Rating) values (?, ?)\",\n",
    "            (Filename, rating))\n",
    "\n",
    "    # Commit your changes in the database    \n",
    "    connection.commit()"
   ]
  },
  {
   "cell_type": "code",
   "execution_count": 9,
   "id": "d0ec35b9-9ec9-4eb9-8076-f9ef50defb52",
   "metadata": {},
   "outputs": [],
   "source": [
    "def data_insert_nbissue(connection, Filename, cell_no, line, issue):\n",
    "    cursor = connection.cursor()\n",
    "\n",
    "    # Queries to INSERT records.    \n",
    "    cursor.execute(\"insert into NBISSUE (Filename, CellNo, Line, Issue) values (?, ?, ?, ?)\",\n",
    "            (Filename, cell_no, line, issue))\n",
    "\n",
    "    # Commit your changes in the database    \n",
    "    connection.commit()"
   ]
  },
  {
   "cell_type": "code",
   "execution_count": 10,
   "id": "3ffec605-bcab-4a4e-ab10-0890e08c88ab",
   "metadata": {},
   "outputs": [],
   "source": [
    "def data_insert_nbfilenames(connection, Filename, mlnonmltype):\n",
    "    cursor = connection.cursor()\n",
    "\n",
    "    # Queries to INSERT records.    \n",
    "    cursor.execute(\"insert into NBFILES (Filename, Type) values (?, ?)\",\n",
    "            (Filename, mlnonmltype))\n",
    "\n",
    "    # Commit your changes in the database    \n",
    "    connection.commit()"
   ]
  },
  {
   "cell_type": "code",
   "execution_count": 11,
   "id": "720ca952-d4ff-4c46-912e-cbe890f7c627",
   "metadata": {},
   "outputs": [],
   "source": [
    "def display_data(conn, tablename):\n",
    "    \n",
    "    cursor = conn.cursor()\n",
    "    # Display data inserted\n",
    "    \n",
    "    if (tablename == 'NBFILES'):\n",
    "        print(\"Data Display for the table: NBFILES \")\n",
    "\n",
    "        data=cursor.execute('''SELECT * FROM NBFILES''')\n",
    "        for row in data:\n",
    "            print(row)\n",
    "        \n",
    "    elif (tablename == 'NBRATING'):\n",
    "        print(\"Data Display for the table: NBRATING \")\n",
    "\n",
    "        data=cursor.execute('''SELECT * FROM NBRATING''')\n",
    "        for row in data:\n",
    "            print(row)\n",
    "   \n",
    "    elif   (tablename == 'NBISSUE'):  \n",
    "        print(\"Data Display for the table: NBISSUE \")\n",
    "\n",
    "        data=cursor.execute('''SELECT * FROM NBISSUE''')\n",
    "        for row in data:\n",
    "            print(row)\n",
    "    \n",
    "    conn.commit()"
   ]
  },
  {
   "cell_type": "code",
   "execution_count": 12,
   "id": "c8c87d4d-2efa-4c64-87c4-3ec873951afb",
   "metadata": {},
   "outputs": [],
   "source": [
    "def count_data(conn, table):\n",
    "    cursor = conn.cursor()\n",
    "    \n",
    "    rowsQuery = \"SELECT Count() FROM %s\" % table\n",
    "    cursor.execute(rowsQuery)\n",
    "    numberOfRows = cursor.fetchone()[0]\n",
    "    print (table, numberOfRows)\n",
    "    \n",
    "    conn.commit()"
   ]
  },
  {
   "cell_type": "code",
   "execution_count": 13,
   "id": "a16f0e15-0793-4cff-abee-dd02dd56ce82",
   "metadata": {},
   "outputs": [],
   "source": [
    "def updateTable(connection):\n",
    "    cursor = connection.cursor()\n",
    "    query = \"UPDATE NBISSUE SET FileID = FileID - 1\"\n",
    "    cursor.execute(query)\n",
    "    \n",
    "    # Commit your changes in the database    \n",
    "    connection.commit()"
   ]
  },
  {
   "cell_type": "markdown",
   "id": "3603dced-8820-4d27-b650-970dfb8f9024",
   "metadata": {
    "tags": []
   },
   "source": [
    "## Database Execution "
   ]
  },
  {
   "cell_type": "code",
   "execution_count": 14,
   "id": "d5dfb12e-7977-4059-83a4-79848688ff01",
   "metadata": {},
   "outputs": [
    {
     "name": "stdout",
     "output_type": "stream",
     "text": [
      "Connection established  result/all_pylint_nb_text/nb_pylint_result_with_type_v1.db\n"
     ]
    }
   ],
   "source": [
    "connection = create_connection(r\"result/all_pylint_nb_text/nb_pylint_result_with_type_v1.db\")\n",
    "# db_table_create(connection)\n"
   ]
  },
  {
   "cell_type": "code",
   "execution_count": null,
   "id": "081208aa-d9f1-40bc-9bde-42fc5c043e66",
   "metadata": {
    "scrolled": true,
    "tags": []
   },
   "outputs": [],
   "source": [
    "# display_data(connection, 'NBRATING')\n",
    "# display_data(connection, 'NBFILES')\n",
    "\n",
    "count_data(connection, 'NBRATING')\n",
    "# count_data(connection, 'NBFILES')"
   ]
  },
  {
   "cell_type": "markdown",
   "id": "2bb9646a-0669-455f-87d8-9595eb074e9c",
   "metadata": {},
   "source": []
  },
  {
   "cell_type": "code",
   "execution_count": 40,
   "id": "8d965b06-3901-4bf3-9ce0-fa61ba53c0c1",
   "metadata": {},
   "outputs": [
    {
     "name": "stdout",
     "output_type": "stream",
     "text": [
      "Connection was closed now  <sqlite3.Connection object at 0x7fc2709466c0>\n"
     ]
    }
   ],
   "source": [
    "close_connection(connection)"
   ]
  },
  {
   "cell_type": "code",
   "execution_count": 16,
   "id": "c5834993-56b5-4888-ae96-590aea534f07",
   "metadata": {},
   "outputs": [
    {
     "name": "stdout",
     "output_type": "stream",
     "text": [
      "171139 69156\n"
     ]
    },
    {
     "data": {
      "text/plain": [
       "0                     CVxTz_audio-data-augmentation.py\n",
       "1        a01653716_hogar-ingresostrimestrales-enigh.py\n",
       "2                   a03102030_eda-for-covid-19-data.py\n",
       "3                      a03102030_eda-for-crime-data.py\n",
       "4                 a03102030_eda-for-googleplay-data.py\n",
       "                             ...                      \n",
       "69151                zzy990106_single-roberta-large.py\n",
       "69152                     zzy990106_truncate-errors.py\n",
       "69153                 zzylordreturn_icu-requirement.py\n",
       "69154                              zzzttt_newsubmit.py\n",
       "69155                      zzzzzfy_kernel6464812e2f.py\n",
       "Name: Filename, Length: 69156, dtype: object"
      ]
     },
     "execution_count": 16,
     "metadata": {},
     "output_type": "execute_result"
    }
   ],
   "source": [
    "ml_filenames = pd.read_csv(\"result/ml_filename_v1.csv\")\n",
    "nonml_filenames = pd.read_csv(\"result/nonml_filename_v1.csv\")\n",
    "print(len(ml_filenames), len(nonml_filenames))\n",
    "nonml_filenames['Filename']"
   ]
  },
  {
   "cell_type": "code",
   "execution_count": 17,
   "id": "205966af-36e2-4576-b6f4-b73c7aafa47f",
   "metadata": {},
   "outputs": [],
   "source": [
    "filenames_for_issues, code_cells, line_numbers, issue_codes = [], [], [], []\n",
    "filenames_for_rating, ratings = [], []\n",
    "outputs_files = []\n"
   ]
  },
  {
   "cell_type": "code",
   "execution_count": 38,
   "id": "10387e85-122f-4a56-85d7-5be4e5912f24",
   "metadata": {},
   "outputs": [],
   "source": [
    "file_count = 19808"
   ]
  },
  {
   "cell_type": "code",
   "execution_count": 32,
   "id": "74d9ca4d-f7e0-4b47-b15e-a4f36da5fa4a",
   "metadata": {
    "scrolled": true,
    "tags": []
   },
   "outputs": [
    {
     "name": "stdout",
     "output_type": "stream",
     "text": [
      "nb_data/part_6/KT_dataset/ 24876\n",
      "nb_data/part_7/KT_dataset/ 24876\n",
      "nb_data/part_8/KT_dataset/ 24876\n",
      "nb_data/part_9/KT_dataset/ 24877\n"
     ]
    }
   ],
   "source": [
    "for nb_path in pylint_txt_path[6:]:\n",
    "    nb_filenames = get_list_of_filename(nb_path, \"*_pylintnb.txt\")\n",
    "    \n",
    "    for file_name in nb_filenames:\n",
    "        \n",
    "    \n",
    "#     data insert to nb filename and type (ml or nonml)\n",
    "        nb_filename_for_type_check = file_name.split('/')[-1].split('_pylintnb.txt')[0]\n",
    "        nb_filename_original = file_name.replace('_pylintnb.txt', '.ipynb')\n",
    "        nb_type = 'ml'\n",
    "        if (nonml_filenames[nonml_filenames['Filename'].str.contains(nb_filename_for_type_check, regex=True)].any(axis=None)):\n",
    "            nb_type = 'nonml'\n",
    "        data_insert_nbfilenames(connection, nb_filename_original, nb_type)\n",
    "        # print (nb_filename_original)\n",
    "            \n",
    "        with open(file_name) as fp:\n",
    "            lines_pylint = fp.readlines()\n",
    "            \n",
    "        for line in lines_pylint:\n",
    "            try:\n",
    "                if line.startswith('nb_data/'):\n",
    "                    # print (line)\n",
    "                    # filename = line.split(':')[0]\n",
    "                    cell = line.split(':')[1].split('_')[1]\n",
    "                    lineNo = line.split(':')[2]\n",
    "                    issue = line.split(':')[4].strip()\n",
    "\n",
    "                    data_insert_nbissue(connection, nb_filename_original, cell, lineNo, issue)\n",
    "                    \n",
    "\n",
    "                if line.startswith('Your code has been'):\n",
    "                    rating = line.split(' ')[-1].split('/')[0]\n",
    "\n",
    "                    data_insert_nbrating(connection, nb_filename_original, rating)\n",
    "\n",
    "\n",
    "            except Exception as e:\n",
    "                with open(\"exception_log.txt\", \"a\") as file_object:\n",
    "                    write_message = str(nb_filename_original) + \" : \" + str(e) + \"\\n\"\n",
    "                    file_object.write(write_message)\n",
    "\n",
    "#         if (file_count % 1000 == 0):\n",
    "#             with open(\"file_count_run.txt\", \"a\") as file_object:\n",
    "#                 file_object.write(nb_path+\" \"+file_count)\n",
    "    "
   ]
  },
  {
   "cell_type": "markdown",
   "id": "4f906be9-012d-4d8d-9557-9c88501756d7",
   "metadata": {},
   "source": [
    "--- NB Analysis </br>\n",
    "Total 248761"
   ]
  },
  {
   "cell_type": "code",
   "execution_count": 34,
   "id": "c7de7afa-ecd5-42fe-acce-9bd398f74d7c",
   "metadata": {},
   "outputs": [
    {
     "name": "stdout",
     "output_type": "stream",
     "text": [
      "done\n"
     ]
    }
   ],
   "source": [
    "print ('done')"
   ]
  },
  {
   "cell_type": "code",
   "execution_count": 63,
   "id": "5ebd26b3-6808-4725-96bf-799880c84195",
   "metadata": {},
   "outputs": [
    {
     "data": {
      "text/html": [
       "<div>\n",
       "<style scoped>\n",
       "    .dataframe tbody tr th:only-of-type {\n",
       "        vertical-align: middle;\n",
       "    }\n",
       "\n",
       "    .dataframe tbody tr th {\n",
       "        vertical-align: top;\n",
       "    }\n",
       "\n",
       "    .dataframe thead th {\n",
       "        text-align: right;\n",
       "    }\n",
       "</style>\n",
       "<table border=\"1\" class=\"dataframe\">\n",
       "  <thead>\n",
       "    <tr style=\"text-align: right;\">\n",
       "      <th></th>\n",
       "      <th>Filename</th>\n",
       "      <th>Rating</th>\n",
       "    </tr>\n",
       "  </thead>\n",
       "  <tbody>\n",
       "    <tr>\n",
       "      <th>0</th>\n",
       "      <td>nb_data/part_0/KT_dataset/basselali_simple.ipynb</td>\n",
       "      <td>1.67</td>\n",
       "    </tr>\n",
       "    <tr>\n",
       "      <th>1</th>\n",
       "      <td>nb_data/part_0/KT_dataset/efstathiasdrolia_wee...</td>\n",
       "      <td>8.25</td>\n",
       "    </tr>\n",
       "  </tbody>\n",
       "</table>\n",
       "</div>"
      ],
      "text/plain": [
       "                                            Filename Rating\n",
       "0   nb_data/part_0/KT_dataset/basselali_simple.ipynb   1.67\n",
       "1  nb_data/part_0/KT_dataset/efstathiasdrolia_wee...   8.25"
      ]
     },
     "execution_count": 63,
     "metadata": {},
     "output_type": "execute_result"
    }
   ],
   "source": [
    "df_ratings_nb = pd.DataFrame({'Filename': filenames_for_rating, 'Rating': ratings})\n",
    "df_ratings_nb"
   ]
  },
  {
   "cell_type": "code",
   "execution_count": 64,
   "id": "57e66c2c-b79c-4f9c-93aa-3f212fa5a7f0",
   "metadata": {},
   "outputs": [
    {
     "data": {
      "text/html": [
       "<div>\n",
       "<style scoped>\n",
       "    .dataframe tbody tr th:only-of-type {\n",
       "        vertical-align: middle;\n",
       "    }\n",
       "\n",
       "    .dataframe tbody tr th {\n",
       "        vertical-align: top;\n",
       "    }\n",
       "\n",
       "    .dataframe thead th {\n",
       "        text-align: right;\n",
       "    }\n",
       "</style>\n",
       "<table border=\"1\" class=\"dataframe\">\n",
       "  <thead>\n",
       "    <tr style=\"text-align: right;\">\n",
       "      <th></th>\n",
       "      <th>Filename</th>\n",
       "      <th>CellNo</th>\n",
       "      <th>Line</th>\n",
       "      <th>Issue</th>\n",
       "    </tr>\n",
       "  </thead>\n",
       "  <tbody>\n",
       "    <tr>\n",
       "      <th>0</th>\n",
       "      <td>nb_data/part_0/KT_dataset/basselali_simple.ipynb</td>\n",
       "      <td>1</td>\n",
       "      <td>3</td>\n",
       "      <td>C0303</td>\n",
       "    </tr>\n",
       "    <tr>\n",
       "      <th>1</th>\n",
       "      <td>nb_data/part_0/KT_dataset/basselali_simple.ipynb</td>\n",
       "      <td>1</td>\n",
       "      <td>9</td>\n",
       "      <td>C0301</td>\n",
       "    </tr>\n",
       "    <tr>\n",
       "      <th>2</th>\n",
       "      <td>nb_data/part_0/KT_dataset/basselali_simple.ipynb</td>\n",
       "      <td>1</td>\n",
       "      <td>0</td>\n",
       "      <td>C0114</td>\n",
       "    </tr>\n",
       "    <tr>\n",
       "      <th>3</th>\n",
       "      <td>nb_data/part_0/KT_dataset/basselali_simple.ipynb</td>\n",
       "      <td>1</td>\n",
       "      <td>11</td>\n",
       "      <td>C0411</td>\n",
       "    </tr>\n",
       "    <tr>\n",
       "      <th>4</th>\n",
       "      <td>nb_data/part_0/KT_dataset/basselali_simple.ipynb</td>\n",
       "      <td>1</td>\n",
       "      <td>5</td>\n",
       "      <td>W0611</td>\n",
       "    </tr>\n",
       "    <tr>\n",
       "      <th>5</th>\n",
       "      <td>nb_data/part_0/KT_dataset/efstathiasdrolia_wee...</td>\n",
       "      <td>1</td>\n",
       "      <td>2</td>\n",
       "      <td>C0303</td>\n",
       "    </tr>\n",
       "    <tr>\n",
       "      <th>6</th>\n",
       "      <td>nb_data/part_0/KT_dataset/efstathiasdrolia_wee...</td>\n",
       "      <td>1</td>\n",
       "      <td>0</td>\n",
       "      <td>C0114</td>\n",
       "    </tr>\n",
       "    <tr>\n",
       "      <th>7</th>\n",
       "      <td>nb_data/part_0/KT_dataset/efstathiasdrolia_wee...</td>\n",
       "      <td>1</td>\n",
       "      <td>0</td>\n",
       "      <td>C0103</td>\n",
       "    </tr>\n",
       "    <tr>\n",
       "      <th>8</th>\n",
       "      <td>nb_data/part_0/KT_dataset/efstathiasdrolia_wee...</td>\n",
       "      <td>3</td>\n",
       "      <td>1</td>\n",
       "      <td>W0104</td>\n",
       "    </tr>\n",
       "    <tr>\n",
       "      <th>9</th>\n",
       "      <td>nb_data/part_0/KT_dataset/efstathiasdrolia_wee...</td>\n",
       "      <td>8</td>\n",
       "      <td>1</td>\n",
       "      <td>W0104</td>\n",
       "    </tr>\n",
       "    <tr>\n",
       "      <th>10</th>\n",
       "      <td>nb_data/part_0/KT_dataset/efstathiasdrolia_wee...</td>\n",
       "      <td>15</td>\n",
       "      <td>2</td>\n",
       "      <td>W0104</td>\n",
       "    </tr>\n",
       "    <tr>\n",
       "      <th>11</th>\n",
       "      <td>nb_data/part_0/KT_dataset/efstathiasdrolia_wee...</td>\n",
       "      <td>25</td>\n",
       "      <td>2</td>\n",
       "      <td>W0104</td>\n",
       "    </tr>\n",
       "    <tr>\n",
       "      <th>12</th>\n",
       "      <td>nb_data/part_0/KT_dataset/efstathiasdrolia_wee...</td>\n",
       "      <td>27</td>\n",
       "      <td>2</td>\n",
       "      <td>R0402</td>\n",
       "    </tr>\n",
       "    <tr>\n",
       "      <th>13</th>\n",
       "      <td>nb_data/part_0/KT_dataset/efstathiasdrolia_wee...</td>\n",
       "      <td>27</td>\n",
       "      <td>2</td>\n",
       "      <td>C0413</td>\n",
       "    </tr>\n",
       "    <tr>\n",
       "      <th>14</th>\n",
       "      <td>nb_data/part_0/KT_dataset/efstathiasdrolia_wee...</td>\n",
       "      <td>27</td>\n",
       "      <td>2</td>\n",
       "      <td>C0412</td>\n",
       "    </tr>\n",
       "  </tbody>\n",
       "</table>\n",
       "</div>"
      ],
      "text/plain": [
       "                                             Filename CellNo Line  Issue\n",
       "0    nb_data/part_0/KT_dataset/basselali_simple.ipynb      1    3  C0303\n",
       "1    nb_data/part_0/KT_dataset/basselali_simple.ipynb      1    9  C0301\n",
       "2    nb_data/part_0/KT_dataset/basselali_simple.ipynb      1    0  C0114\n",
       "3    nb_data/part_0/KT_dataset/basselali_simple.ipynb      1   11  C0411\n",
       "4    nb_data/part_0/KT_dataset/basselali_simple.ipynb      1    5  W0611\n",
       "5   nb_data/part_0/KT_dataset/efstathiasdrolia_wee...      1    2  C0303\n",
       "6   nb_data/part_0/KT_dataset/efstathiasdrolia_wee...      1    0  C0114\n",
       "7   nb_data/part_0/KT_dataset/efstathiasdrolia_wee...      1    0  C0103\n",
       "8   nb_data/part_0/KT_dataset/efstathiasdrolia_wee...      3    1  W0104\n",
       "9   nb_data/part_0/KT_dataset/efstathiasdrolia_wee...      8    1  W0104\n",
       "10  nb_data/part_0/KT_dataset/efstathiasdrolia_wee...     15    2  W0104\n",
       "11  nb_data/part_0/KT_dataset/efstathiasdrolia_wee...     25    2  W0104\n",
       "12  nb_data/part_0/KT_dataset/efstathiasdrolia_wee...     27    2  R0402\n",
       "13  nb_data/part_0/KT_dataset/efstathiasdrolia_wee...     27    2  C0413\n",
       "14  nb_data/part_0/KT_dataset/efstathiasdrolia_wee...     27    2  C0412"
      ]
     },
     "execution_count": 64,
     "metadata": {},
     "output_type": "execute_result"
    }
   ],
   "source": [
    "df_issues_nb = pd.DataFrame({'Filename': filenames_for_issues, 'CellNo': code_cells, 'Line': line_numbers, 'Issue':issue_codes})\n",
    "df_issues_nb"
   ]
  },
  {
   "cell_type": "code",
   "execution_count": 47,
   "id": "5b3c5c50-5b84-45c4-8b69-a718e77419c4",
   "metadata": {},
   "outputs": [
    {
     "data": {
      "text/plain": [
       "{'cells': [{'cell_type': 'code',\n",
       "   'execution_count': None,\n",
       "   'metadata': {'collapsed': False},\n",
       "   'outputs': [],\n",
       "   'source': '# This Python 3 environment comes with many helpful analytics libraries installed\\n# It is defined by the kaggle/python docker image: https://github.com/kaggle/docker-python\\n# For example, here\\'s several helpful packages to load in \\n\\nimport numpy as np # linear algebra\\nimport pandas as pd # data processing, CSV file I/O (e.g. pd.read_csv)\\n\\n# Input data files are available in the \"../input/\" directory.\\n# For example, running this (by clicking run or pressing Shift+Enter) will list the files in the input directory\\n\\nfrom subprocess import check_output\\nprint(check_output([\"ls\", \"../input\"]).decode(\"utf8\"))\\nallData = pd.read_csv(\\'../input/data.csv\\')\\nprint(allData.describe(include=\\'all\\'))\\n# Any results you write to the current directory are saved as output.'},\n",
       "  {'cell_type': 'code',\n",
       "   'execution_count': None,\n",
       "   'metadata': {'collapsed': False},\n",
       "   'outputs': [],\n",
       "   'source': ''}],\n",
       " 'metadata': {'kernelspec': {'display_name': 'Python 3',\n",
       "   'language': 'python',\n",
       "   'name': 'python3'}},\n",
       " 'nbformat': 4,\n",
       " 'nbformat_minor': 0}"
      ]
     },
     "execution_count": 47,
     "metadata": {},
     "output_type": "execute_result"
    }
   ],
   "source": [
    "nb = nbformat.read('nb_data/part_0/KT_dataset/basselali_simple.ipynb', as_version=4)\n",
    "nb\n"
   ]
  },
  {
   "cell_type": "code",
   "execution_count": 54,
   "id": "d2016cd7-9ca0-439d-9cd8-2d75ef58890d",
   "metadata": {},
   "outputs": [
    {
     "name": "stdout",
     "output_type": "stream",
     "text": [
      "1 # This Python 3 environment comes with many helpful analytics libraries installed\n",
      "1 # It is defined by the kaggle/python docker image: https://github.com/kaggle/docker-python\n",
      "1 # For example, here's several helpful packages to load in \n",
      "1 \n",
      "1 import numpy as np # linear algebra\n",
      "1 import pandas as pd # data processing, CSV file I/O (e.g. pd.read_csv)\n",
      "1 \n",
      "1 # Input data files are available in the \"../input/\" directory.\n",
      "1 # For example, running this (by clicking run or pressing Shift+Enter) will list the files in the input directory\n",
      "1 \n",
      "1 from subprocess import check_output\n",
      "1 print(check_output([\"ls\", \"../input\"]).decode(\"utf8\"))\n",
      "1 allData = pd.read_csv('../input/data.csv')\n",
      "1 print(allData.describe(include='all'))\n",
      "1 # Any results you write to the current directory are saved as output.\n",
      "2 \n"
     ]
    }
   ],
   "source": [
    "cell_counter = 1\n",
    "for i in nb['cells']:\n",
    "    if (i['cell_type'] == 'code'):\n",
    "        line_counter = 1\n",
    "        for line in i['source'].split('\\n'):\n",
    "            print(cell_counter, line)\n",
    "    \n",
    "    cell_counter += 1"
   ]
  }
 ],
 "metadata": {
  "kernelspec": {
   "display_name": "Python 3 (ipykernel)",
   "language": "python",
   "name": "python3"
  },
  "language_info": {
   "codemirror_mode": {
    "name": "ipython",
    "version": 3
   },
   "file_extension": ".py",
   "mimetype": "text/x-python",
   "name": "python",
   "nbconvert_exporter": "python",
   "pygments_lexer": "ipython3",
   "version": "3.9.7"
  }
 },
 "nbformat": 4,
 "nbformat_minor": 5
}
