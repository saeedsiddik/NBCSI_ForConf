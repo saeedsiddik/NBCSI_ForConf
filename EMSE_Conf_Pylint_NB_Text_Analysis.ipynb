{
 "cells": [
  {
   "cell_type": "markdown",
   "id": "aee5f557-66f8-4867-a37b-972ffb2f403d",
   "metadata": {},
   "source": [
    "# Package Import"
   ]
  },
  {
   "cell_type": "code",
   "execution_count": 1,
   "id": "829225ef-49b9-4947-a7d2-e876e5f62a3b",
   "metadata": {},
   "outputs": [],
   "source": [
    "import ast\n",
    "import astor\n",
    "import logging\n",
    "\n",
    "import os\n",
    "import subprocess\n",
    "\n",
    "import codecs\n",
    "import json\n",
    "import re\n",
    "import glob\n",
    "import json\n",
    "import re \n",
    "\n",
    "import pandas as pd \n",
    "import matplotlib.pyplot as plt\n",
    "import seaborn as sns\n",
    "\n",
    "import numpy as np\n",
    "\n",
    "import pylint.lint\n",
    "\n",
    "from scipy.stats import kstest\n",
    "from scipy.stats import mannwhitneyu\n",
    "from scipy.stats import kendalltau\n",
    "from scipy import stats\n",
    "import rbo\n",
    "\n",
    "from cliffs_delta import cliffs_delta\n",
    "import linecache\n",
    "\n",
    "from concurrent.futures import ThreadPoolExecutor, as_completed\n",
    "from time import time"
   ]
  },
  {
   "cell_type": "markdown",
   "id": "f78d947b-1999-4e79-8d40-514c21f799fe",
   "metadata": {},
   "source": [
    "# Data Directory Setup"
   ]
  },
  {
   "cell_type": "code",
   "execution_count": null,
   "id": "3d1d5cb6-f5f5-4207-b4c5-51d790538042",
   "metadata": {},
   "outputs": [],
   "source": [
    "!pip install nbqa pylint"
   ]
  },
  {
   "cell_type": "markdown",
   "id": "08cdb0bc-c2f8-4ee8-824e-f516ae471471",
   "metadata": {},
   "source": [
    "In this study, data are split into 10 parts to handle them easily. </br>\n",
    "Use the directory pathonly if the data are gathered in a single directory."
   ]
  },
  {
   "cell_type": "code",
   "execution_count": 2,
   "id": "87fa2b46-08eb-4cd7-9a15-3b0b2e1983d4",
   "metadata": {},
   "outputs": [],
   "source": [
    "# pylint_txt_path = ['data_directory']\n",
    "pylint_txt_path = ['/storage/saeed/nb_data/part_0/KT_dataset/','/storage/saeed/nb_data/part_1/KT_dataset/','/storage/saeed/nb_data/part_2/KT_dataset/',\n",
    "                   '/storage/saeed/nb_data/part_3/KT_dataset/','/storage/saeed/nb_data/part_4/KT_dataset/','/storage/saeed/nb_data/part_5/KT_dataset/',\n",
    "                   '/storage/saeed/nb_data/part_6/KT_dataset/','/storage/saeed/nb_data/part_7/KT_dataset/','/storage/saeed/nb_data/part_8/KT_dataset/',\n",
    "                   '/storage/saeed/nb_data/part_9/KT_dataset/'] \n",
    "\n",
    "output_path=\"result/all_pylint_nb_text/\""
   ]
  },
  {
   "cell_type": "code",
   "execution_count": 14,
   "id": "a75a9ad3-3acc-4732-ae43-a281eea691eb",
   "metadata": {},
   "outputs": [],
   "source": [
    "def get_list_of_filename(path, extension):\n",
    "    notebook_filenames_list = glob.glob(os.path.join(path, extension))\n",
    "    \n",
    "    print(path, len(notebook_filenames_list))\n",
    "    return notebook_filenames_list"
   ]
  },
  {
   "cell_type": "markdown",
   "id": "d228557d-84a9-479d-8793-e6cfb6ad9741",
   "metadata": {
    "tags": []
   },
   "source": [
    "# Notebook Code to Text Conversion"
   ]
  },
  {
   "cell_type": "code",
   "execution_count": 8,
   "id": "4ecd97cd-d6b3-4b2a-8be8-3ec78ac8ea9f",
   "metadata": {},
   "outputs": [
    {
     "name": "stdout",
     "output_type": "stream",
     "text": [
      "/storage/saeed/nb_data/part_0/KT_dataset/ 24876\n",
      "/storage/saeed/nb_data/part_0/KT_dataset/ristola_titanic.ipynb\n",
      "/storage/saeed/nb_data/part_1/KT_dataset/ 24876\n",
      "/storage/saeed/nb_data/part_1/KT_dataset/kerneler_starter-covid-colombia-5d271f48-f.ipynb\n",
      "/storage/saeed/nb_data/part_2/KT_dataset/ 24876\n",
      "/storage/saeed/nb_data/part_2/KT_dataset/kerneler_starter-relevant-factors-articles-by-f56ac66b-a.ipynb\n",
      "/storage/saeed/nb_data/part_3/KT_dataset/ 24876\n",
      "/storage/saeed/nb_data/part_3/KT_dataset/raghavar4u_iterations-strings-in-python.ipynb\n",
      "/storage/saeed/nb_data/part_4/KT_dataset/ 24876\n",
      "/storage/saeed/nb_data/part_4/KT_dataset/sudhirnl7_quantile-regression.ipynb\n",
      "/storage/saeed/nb_data/part_5/KT_dataset/ 24876\n",
      "/storage/saeed/nb_data/part_5/KT_dataset/jrosvigan_kaggle-titanic-optimisation.ipynb\n",
      "/storage/saeed/nb_data/part_6/KT_dataset/ 24876\n",
      "/storage/saeed/nb_data/part_6/KT_dataset/venuallamneni_starter-women-s-e-commerce-clothing-ccd61634-c.ipynb\n",
      "/storage/saeed/nb_data/part_7/KT_dataset/ 24876\n",
      "/storage/saeed/nb_data/part_7/KT_dataset/temmyzeus_multi-label-classification-using-one-versus-rest.ipynb\n",
      "/storage/saeed/nb_data/part_8/KT_dataset/ 24876\n",
      "/storage/saeed/nb_data/part_8/KT_dataset/kerneler_starter-physical-activity-tweets-in-6f0fcb2c-d.ipynb\n",
      "/storage/saeed/nb_data/part_9/KT_dataset/ 24877\n",
      "/storage/saeed/nb_data/part_9/KT_dataset/lnpandey_eda-haberman-cancer-survival-dataset.ipynb\n"
     ]
    }
   ],
   "source": [
    "for nb_path in pylint_txt_path:\n",
    "    nb_filenames = get_list_of_filename(nb_path, \"*.ipynb\")\n",
    "    print (nb_filenames[0])\n",
    "    \n",
    "    target_nb = nb_filenames[0]\n",
    "    output_lint_file = output_path+target_nb+\".txt\"\n"
   ]
  },
  {
   "cell_type": "code",
   "execution_count": null,
   "id": "715915e2-55ad-4fdf-971e-c3b5b661da47",
   "metadata": {},
   "outputs": [],
   "source": []
  }
 ],
 "metadata": {
  "kernelspec": {
   "display_name": "PySpark",
   "language": "python",
   "name": "pyspark2"
  },
  "language_info": {
   "codemirror_mode": {
    "name": "ipython",
    "version": 3
   },
   "file_extension": ".py",
   "mimetype": "text/x-python",
   "name": "python",
   "nbconvert_exporter": "python",
   "pygments_lexer": "ipython3",
   "version": "3.9.7"
  }
 },
 "nbformat": 4,
 "nbformat_minor": 5
}
